{
 "metadata": {
  "language_info": {
   "codemirror_mode": {
    "name": "ipython",
    "version": 3
   },
   "file_extension": ".py",
   "mimetype": "text/x-python",
   "name": "python",
   "nbconvert_exporter": "python",
   "pygments_lexer": "ipython3",
   "version": 3
  },
  "orig_nbformat": 2,
  "kernelspec": {
   "name": "python_defaultSpec_1596299396504",
   "display_name": "Python 3.7.6 64-bit ('anaconda3': virtualenv)"
  }
 },
 "nbformat": 4,
 "nbformat_minor": 2,
 "cells": [
  {
   "cell_type": "markdown",
   "metadata": {},
   "source": [
    "Initial setup"
   ]
  },
  {
   "cell_type": "code",
   "execution_count": null,
   "metadata": {},
   "outputs": [],
   "source": [
    "import pandas as pd"
   ]
  },
  {
   "cell_type": "code",
   "execution_count": null,
   "metadata": {},
   "outputs": [],
   "source": [
    "# Establish paths to our CSV files\n",
    "wnba2018 = \"../Original_Data/WNBA_2018_season.csv\"\n",
    "wnba2019 = \"../Original_Data/WNBA_2019_season.csv\"\n",
    "player2018 = \"../Original_Data/player_stats_2018.csv\"\n",
    "player2019 = \"../Original_Data/player_stats_2019.csv\"\n",
    "\n",
    "# Read our WNBA data into pandas\n",
    "wnba_2018_df = pd.read_csv(wnba2018)\n",
    "wnba_2019_df = pd.read_csv(wnba2019)\n",
    "player_2018_df = pd.read_csv(player2018)\n",
    "player_2019_df = pd.read_csv(player2019)"
   ]
  },
  {
   "cell_type": "markdown",
   "metadata": {},
   "source": [
    "View the new DFs"
   ]
  },
  {
   "cell_type": "code",
   "execution_count": null,
   "metadata": {},
   "outputs": [],
   "source": [
    "#wnba_2018_df.head()"
   ]
  },
  {
   "cell_type": "code",
   "execution_count": null,
   "metadata": {},
   "outputs": [],
   "source": [
    "#wnba_2019_df.head()"
   ]
  },
  {
   "cell_type": "code",
   "execution_count": null,
   "metadata": {},
   "outputs": [],
   "source": [
    "#player_2018_df.head()"
   ]
  },
  {
   "cell_type": "code",
   "execution_count": null,
   "metadata": {},
   "outputs": [],
   "source": [
    "#player_2019_df.head()"
   ]
  },
  {
   "cell_type": "markdown",
   "metadata": {},
   "source": [
    "Reduce Player DFs to only the 9 columns we want to evaluate\n"
   ]
  },
  {
   "cell_type": "code",
   "execution_count": null,
   "metadata": {},
   "outputs": [],
   "source": [
    "# 2018 Player Data reduction\n",
    "# Extract \"Player\", \"Tm\", \"Pos\", \"G\", \"FG\", \"FG%\", \"FT\", \"FT%\" and \"PTS\"\n",
    "reduced_player18_df = player_2018_df.loc[:, [\"Player\", \"Tm\", \"Pos\", \"G\", \"FG\", \"FG%\", \"FT\", \"FT%\", \"PTS\"]]\n",
    "reduced_player18_df.head(10)"
   ]
  },
  {
   "cell_type": "code",
   "execution_count": null,
   "metadata": {},
   "outputs": [],
   "source": [
    "# 2019 Player Data reduction\n",
    "# Extract \"Player\", \"Tm\", \"Pos\", \"G\", \"FG\", \"FG%\", \"FT\", \"FT%\" and \"PTS\"\n",
    "reduced_player19_df = player_2019_df.loc[:, [\"Player\", \"Tm\", \"Pos\", \"G\", \"FG\", \"FG%\", \"FT\", \"FT%\", \"PTS\"]]\n",
    "reduced_player19_df.head(10)"
   ]
  },
  {
   "cell_type": "markdown",
   "metadata": {},
   "source": [
    "Remove the Box Score column from the Game Data"
   ]
  },
  {
   "cell_type": "code",
   "execution_count": null,
   "metadata": {},
   "outputs": [],
   "source": [
    "# 2018 Game Data reduction\n",
    "# Extract \"Date\", \"Visitor/Neutral\", \"PTS\", \"Visitor/Neutral\", \"PTS.1\"\n",
    "reduced_game18_df = wnba_2018_df.loc[:, [\"Date\", \"Visitor/Neutral\", \"PTS\", \"Home/Neutral\", \"PTS.1\"]]\n",
    "reduced_game18_df.head(10)"
   ]
  },
  {
   "cell_type": "code",
   "execution_count": null,
   "metadata": {},
   "outputs": [],
   "source": [
    "# 2019 Game Data reduction\n",
    "# Extract \"Date\", \"Visitor/Neutral\", \"PTS\", \"Visitor/Neutral\", \"PTS.1\"\n",
    "reduced_game19_df = wnba_2019_df.loc[:, [\"Date\", \"Visitor/Neutral\", \"PTS\", \"Home/Neutral\", \"PTS.1\"]]\n",
    "reduced_game19_df.head(10)"
   ]
  },
  {
   "cell_type": "markdown",
   "metadata": {},
   "source": [
    "Update the Game Data DFs so team names match the 3 letter accrynyms on the Player Data DFs"
   ]
  },
  {
   "cell_type": "code",
   "execution_count": null,
   "metadata": {},
   "outputs": [],
   "source": [
    "#Replace each full team name with 3-letter accrynym (i.e. DallasWings --> DAL)\n",
    "\n",
    "replacements = {\n",
    "    \"Dallas Wings\": \"DAL\",\n",
    "    \"Chicago Sky\": \"CHI\",\n",
    "    \"New York Liberty\": \"NYL\",\n",
    "    \"Las Vegas Aces\": \"LVA\",\n",
    "    \"Atlanta Dream\": \"ATL\",\n",
    "    \"Los Angeles Sparks\": \"LAS\",\n",
    "    \"Phoenix Mercury\": \"PHO\",\n",
    "    \"Seattle Storm\": \"SEA\",\n",
    "    \"Indiana Fever\": \"IND\",\n",
    "    \"Washington Mystics\": \"WAS\",\n",
    "    \"Minnesota Lynx\": \"MIN\",\n",
    "    \"Connecticut Sun\": \"CON\",\n",
    "}\n",
    "reduced_game18_df[\"Visitor/Neutral\"].replace(replacements, inplace=True)\n",
    "\n",
    "reduced_game18_df[\"Home/Neutral\"].replace(replacements, inplace=True)\n",
    "\n",
    "reduced_game19_df[\"Visitor/Neutral\"].replace(replacements, inplace=True)\n",
    "\n",
    "reduced_game19_df[\"Home/Neutral\"].replace(replacements, inplace=True)\n",
    "    "
   ]
  },
  {
   "cell_type": "code",
   "execution_count": null,
   "metadata": {},
   "outputs": [],
   "source": [
    "#View new Game Data DFs\n",
    "#reduced_game18_df.head(30)\n",
    "#reduced_game19_df.head(30)"
   ]
  },
  {
   "cell_type": "markdown",
   "metadata": {},
   "source": [
    "Update column headers to match schema "
   ]
  },
  {
   "cell_type": "code",
   "execution_count": null,
   "metadata": {},
   "outputs": [],
   "source": [
    "# Headers updates, Game Data:\n",
    "revised_game18_df = reduced_game18_df.rename(columns={'Visitor/Neutral': 'away_team', 'PTS': 'away_team_pts', 'Home/Neutral': 'home_team', 'PTS.1': 'home_team_pts'})\n",
    "\n",
    "revised_game19_df = reduced_game19_df.rename(columns={'Visitor/Neutral': 'away_team', 'PTS': 'away_team_pts', 'Home/Neutral': 'home_team', 'PTS.1': 'home_team_pts'})\n",
    "\n",
    "#Header updates, Player Data:\n",
    "revised_player18_df = reduced_player18_df.rename(columns={'Tm': 'team_name', 'Pos': 'Position',\t'G': 'Games', 'FG%': 'FG_pct', 'FT%': 'FT_pct', 'PTS': 'Total_Pts'})\n",
    "\n",
    "revised_player19_df = reduced_player19_df.rename(columns={'Tm': 'team_name', 'Pos': 'Position',\t'G': 'Games', 'FG%': 'FG_pct', 'FT%': 'FT_pct', 'PTS': 'Total_Pts', })"
   ]
  },
  {
   "cell_type": "code",
   "execution_count": null,
   "metadata": {},
   "outputs": [],
   "source": [
    "# Add 'Season' Column to Game Data\n",
    "revised_game18_df.insert(0, \"Season\", 2018, True)\n",
    "\n",
    "revised_game19_df.insert(0, \"Season\", 2019, True)\n",
    "\n",
    "revised_player18_df.insert(0, \"Season\", 2018, True)\n",
    "\n",
    "revised_player19_df.insert(0, \"Season\", 2019, True)"
   ]
  },
  {
   "cell_type": "code",
   "execution_count": null,
   "metadata": {},
   "outputs": [],
   "source": [
    "# revised_game18_df"
   ]
  },
  {
   "cell_type": "code",
   "execution_count": null,
   "metadata": {},
   "outputs": [],
   "source": [
    "revised_player18_df"
   ]
  },
  {
   "cell_type": "markdown",
   "metadata": {},
   "source": [
    "Export new DFs to CSV files"
   ]
  },
  {
   "cell_type": "code",
   "execution_count": null,
   "metadata": {},
   "outputs": [],
   "source": [
    "revised_player19_df.to_csv(\"revised_player19_df.csv\", encoding='utf-8', index=False)\n"
   ]
  },
  {
   "cell_type": "code",
   "execution_count": null,
   "metadata": {},
   "outputs": [],
   "source": [
    "revised_player18_df.to_csv(\"revised_player18_df.csv\", encoding='utf-8', index=False)"
   ]
  },
  {
   "cell_type": "code",
   "execution_count": null,
   "metadata": {},
   "outputs": [],
   "source": [
    "revised_game18_df.to_csv(\"revised_game18_df.csv\", encoding='utf-8', index=False)"
   ]
  },
  {
   "cell_type": "code",
   "execution_count": null,
   "metadata": {},
   "outputs": [],
   "source": [
    "revised_game19_df.to_csv(\"revised_game19_df.csv\", encoding='utf-8', index=False)"
   ]
  }
 ]
}