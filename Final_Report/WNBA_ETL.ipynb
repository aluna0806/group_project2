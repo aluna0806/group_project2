{
 "metadata": {
  "language_info": {
   "codemirror_mode": {
    "name": "ipython",
    "version": 3
   },
   "file_extension": ".py",
   "mimetype": "text/x-python",
   "name": "python",
   "nbconvert_exporter": "python",
   "pygments_lexer": "ipython3",
   "version": "3.7.6-final"
  },
  "orig_nbformat": 2,
  "kernelspec": {
   "name": "python_defaultSpec_1596589430770",
   "display_name": "Python 3.7.6 64-bit ('base': conda)"
  }
 },
 "nbformat": 4,
 "nbformat_minor": 2,
 "cells": [
  {
   "cell_type": "code",
   "execution_count": 21,
   "metadata": {},
   "outputs": [],
   "source": [
    "import pandas as pd\n",
    "from sqlalchemy import create_engine"
   ]
  },
  {
   "cell_type": "markdown",
   "metadata": {},
   "source": [
    "### Extract CSVs into DataFrames"
   ]
  },
  {
   "cell_type": "code",
   "execution_count": 22,
   "metadata": {},
   "outputs": [],
   "source": [
    "# Establish paths to our CSV files\n",
    "wnba2018 = \"../Original_Data/WNBA_2018_season.csv\"\n",
    "wnba2019 = \"../Original_Data/WNBA_2019_season.csv\"\n",
    "player2018 = \"../Original_Data/player_stats_2018.csv\"\n",
    "player2019 = \"../Original_Data/player_stats_2019.csv\"\n",
    "\n",
    "# Read our WNBA data into pandas\n",
    "wnba_2018_df = pd.read_csv(wnba2018)\n",
    "wnba_2019_df = pd.read_csv(wnba2019)\n",
    "player_2018_df = pd.read_csv(player2018)\n",
    "player_2019_df = pd.read_csv(player2019)"
   ]
  },
  {
   "cell_type": "markdown",
   "metadata": {},
   "source": [
    "### Transform Player DataFrames\n",
    "* Reduce Player DFs to only the 9 columns we want to evaluate\n",
    "* Update column headers to coorespond with schema \n",
    "* Add 'Season' column to DataFrames\n"
   ]
  },
  {
   "cell_type": "code",
   "execution_count": 23,
   "metadata": {},
   "outputs": [
    {
     "output_type": "execute_result",
     "data": {
      "text/plain": "                Player   Tm  Pos   G   FG    FG%  FT    FT%  PTS\n0      Natalie Achonwa  IND    C  34  137  0.527  76  0.800  350\n1      Kayla Alexander  IND    C  30   33  0.541  14  0.824   80\n2        Lindsay Allen  LVA    G  24   28  0.384  17  0.708   74\n3        Rebecca Allen  NYL    F  28   38  0.376  21  0.840  107\n4         Ariel Atkins  WAS    G  29  120  0.432  42  0.824  327\n5     Seimone Augustus  MIN    G  33  156  0.467  24  0.706  357\n6        Rachel Banham  CON    G  33   55  0.414  33  0.868  173\n7          Alana Beard  LAS  G-F  30   51  0.392  17  0.810  121\n8  Hind Ben Abdelkader  IND    G  14    8  0.186   7  0.875   29\n9         Alex Bentley  ATL    G  16   56  0.376   9  0.529  139",
      "text/html": "<div>\n<style scoped>\n    .dataframe tbody tr th:only-of-type {\n        vertical-align: middle;\n    }\n\n    .dataframe tbody tr th {\n        vertical-align: top;\n    }\n\n    .dataframe thead th {\n        text-align: right;\n    }\n</style>\n<table border=\"1\" class=\"dataframe\">\n  <thead>\n    <tr style=\"text-align: right;\">\n      <th></th>\n      <th>Player</th>\n      <th>Tm</th>\n      <th>Pos</th>\n      <th>G</th>\n      <th>FG</th>\n      <th>FG%</th>\n      <th>FT</th>\n      <th>FT%</th>\n      <th>PTS</th>\n    </tr>\n  </thead>\n  <tbody>\n    <tr>\n      <th>0</th>\n      <td>Natalie Achonwa</td>\n      <td>IND</td>\n      <td>C</td>\n      <td>34</td>\n      <td>137</td>\n      <td>0.527</td>\n      <td>76</td>\n      <td>0.800</td>\n      <td>350</td>\n    </tr>\n    <tr>\n      <th>1</th>\n      <td>Kayla Alexander</td>\n      <td>IND</td>\n      <td>C</td>\n      <td>30</td>\n      <td>33</td>\n      <td>0.541</td>\n      <td>14</td>\n      <td>0.824</td>\n      <td>80</td>\n    </tr>\n    <tr>\n      <th>2</th>\n      <td>Lindsay Allen</td>\n      <td>LVA</td>\n      <td>G</td>\n      <td>24</td>\n      <td>28</td>\n      <td>0.384</td>\n      <td>17</td>\n      <td>0.708</td>\n      <td>74</td>\n    </tr>\n    <tr>\n      <th>3</th>\n      <td>Rebecca Allen</td>\n      <td>NYL</td>\n      <td>F</td>\n      <td>28</td>\n      <td>38</td>\n      <td>0.376</td>\n      <td>21</td>\n      <td>0.840</td>\n      <td>107</td>\n    </tr>\n    <tr>\n      <th>4</th>\n      <td>Ariel Atkins</td>\n      <td>WAS</td>\n      <td>G</td>\n      <td>29</td>\n      <td>120</td>\n      <td>0.432</td>\n      <td>42</td>\n      <td>0.824</td>\n      <td>327</td>\n    </tr>\n    <tr>\n      <th>5</th>\n      <td>Seimone Augustus</td>\n      <td>MIN</td>\n      <td>G</td>\n      <td>33</td>\n      <td>156</td>\n      <td>0.467</td>\n      <td>24</td>\n      <td>0.706</td>\n      <td>357</td>\n    </tr>\n    <tr>\n      <th>6</th>\n      <td>Rachel Banham</td>\n      <td>CON</td>\n      <td>G</td>\n      <td>33</td>\n      <td>55</td>\n      <td>0.414</td>\n      <td>33</td>\n      <td>0.868</td>\n      <td>173</td>\n    </tr>\n    <tr>\n      <th>7</th>\n      <td>Alana Beard</td>\n      <td>LAS</td>\n      <td>G-F</td>\n      <td>30</td>\n      <td>51</td>\n      <td>0.392</td>\n      <td>17</td>\n      <td>0.810</td>\n      <td>121</td>\n    </tr>\n    <tr>\n      <th>8</th>\n      <td>Hind Ben Abdelkader</td>\n      <td>IND</td>\n      <td>G</td>\n      <td>14</td>\n      <td>8</td>\n      <td>0.186</td>\n      <td>7</td>\n      <td>0.875</td>\n      <td>29</td>\n    </tr>\n    <tr>\n      <th>9</th>\n      <td>Alex Bentley</td>\n      <td>ATL</td>\n      <td>G</td>\n      <td>16</td>\n      <td>56</td>\n      <td>0.376</td>\n      <td>9</td>\n      <td>0.529</td>\n      <td>139</td>\n    </tr>\n  </tbody>\n</table>\n</div>"
     },
     "metadata": {},
     "execution_count": 23
    }
   ],
   "source": [
    "# 2018 Player Data reduction\n",
    "# Extract \"Player\", \"Tm\", \"Pos\", \"G\", \"FG\", \"FG%\", \"FT\", \"FT%\" and \"PTS\"\n",
    "reduced_player18_df = player_2018_df.loc[:, [\"Player\", \"Tm\", \"Pos\", \"G\", \"FG\", \"FG%\", \"FT\", \"FT%\", \"PTS\"]]\n",
    "reduced_player18_df.head(10)"
   ]
  },
  {
   "cell_type": "code",
   "execution_count": 24,
   "metadata": {},
   "outputs": [
    {
     "output_type": "execute_result",
     "data": {
      "text/plain": "             Player   Tm  Pos   G   FG    FG%  FT    FT%  PTS\n0   Natalie Achonwa  IND    C  30   99  0.488  60  0.909  261\n1   Kayla Alexander  CHI    C   3    3  0.750   3  0.750    9\n2     Rebecca Allen  NYL    F  24   65  0.417  13  0.813  172\n3   Jillian Alleyne  MIN  NaN   5    2  0.333   0    NaN    4\n4   Kristine Anigwe  CON  C-F  17   11  0.314  12  0.706   34\n5   Kristine Anigwe  DAL  C-F  10   11  0.333  10  0.667   32\n6   Kristine Anigwe  TOT  C-F  27   22  0.324  22  0.688   66\n7      Ariel Atkins  WAS    G  33  123  0.416  43  0.811  340\n8  Seimone Augustus  MIN    G  12   20  0.313   3  0.750   45\n9     Rachel Banham  CON    G  29   37  0.322   9  0.692  105",
      "text/html": "<div>\n<style scoped>\n    .dataframe tbody tr th:only-of-type {\n        vertical-align: middle;\n    }\n\n    .dataframe tbody tr th {\n        vertical-align: top;\n    }\n\n    .dataframe thead th {\n        text-align: right;\n    }\n</style>\n<table border=\"1\" class=\"dataframe\">\n  <thead>\n    <tr style=\"text-align: right;\">\n      <th></th>\n      <th>Player</th>\n      <th>Tm</th>\n      <th>Pos</th>\n      <th>G</th>\n      <th>FG</th>\n      <th>FG%</th>\n      <th>FT</th>\n      <th>FT%</th>\n      <th>PTS</th>\n    </tr>\n  </thead>\n  <tbody>\n    <tr>\n      <th>0</th>\n      <td>Natalie Achonwa</td>\n      <td>IND</td>\n      <td>C</td>\n      <td>30</td>\n      <td>99</td>\n      <td>0.488</td>\n      <td>60</td>\n      <td>0.909</td>\n      <td>261</td>\n    </tr>\n    <tr>\n      <th>1</th>\n      <td>Kayla Alexander</td>\n      <td>CHI</td>\n      <td>C</td>\n      <td>3</td>\n      <td>3</td>\n      <td>0.750</td>\n      <td>3</td>\n      <td>0.750</td>\n      <td>9</td>\n    </tr>\n    <tr>\n      <th>2</th>\n      <td>Rebecca Allen</td>\n      <td>NYL</td>\n      <td>F</td>\n      <td>24</td>\n      <td>65</td>\n      <td>0.417</td>\n      <td>13</td>\n      <td>0.813</td>\n      <td>172</td>\n    </tr>\n    <tr>\n      <th>3</th>\n      <td>Jillian Alleyne</td>\n      <td>MIN</td>\n      <td>NaN</td>\n      <td>5</td>\n      <td>2</td>\n      <td>0.333</td>\n      <td>0</td>\n      <td>NaN</td>\n      <td>4</td>\n    </tr>\n    <tr>\n      <th>4</th>\n      <td>Kristine Anigwe</td>\n      <td>CON</td>\n      <td>C-F</td>\n      <td>17</td>\n      <td>11</td>\n      <td>0.314</td>\n      <td>12</td>\n      <td>0.706</td>\n      <td>34</td>\n    </tr>\n    <tr>\n      <th>5</th>\n      <td>Kristine Anigwe</td>\n      <td>DAL</td>\n      <td>C-F</td>\n      <td>10</td>\n      <td>11</td>\n      <td>0.333</td>\n      <td>10</td>\n      <td>0.667</td>\n      <td>32</td>\n    </tr>\n    <tr>\n      <th>6</th>\n      <td>Kristine Anigwe</td>\n      <td>TOT</td>\n      <td>C-F</td>\n      <td>27</td>\n      <td>22</td>\n      <td>0.324</td>\n      <td>22</td>\n      <td>0.688</td>\n      <td>66</td>\n    </tr>\n    <tr>\n      <th>7</th>\n      <td>Ariel Atkins</td>\n      <td>WAS</td>\n      <td>G</td>\n      <td>33</td>\n      <td>123</td>\n      <td>0.416</td>\n      <td>43</td>\n      <td>0.811</td>\n      <td>340</td>\n    </tr>\n    <tr>\n      <th>8</th>\n      <td>Seimone Augustus</td>\n      <td>MIN</td>\n      <td>G</td>\n      <td>12</td>\n      <td>20</td>\n      <td>0.313</td>\n      <td>3</td>\n      <td>0.750</td>\n      <td>45</td>\n    </tr>\n    <tr>\n      <th>9</th>\n      <td>Rachel Banham</td>\n      <td>CON</td>\n      <td>G</td>\n      <td>29</td>\n      <td>37</td>\n      <td>0.322</td>\n      <td>9</td>\n      <td>0.692</td>\n      <td>105</td>\n    </tr>\n  </tbody>\n</table>\n</div>"
     },
     "metadata": {},
     "execution_count": 24
    }
   ],
   "source": [
    "# 2019 Player Data reduction\n",
    "# Extract \"Player\", \"Tm\", \"Pos\", \"G\", \"FG\", \"FG%\", \"FT\", \"FT%\" and \"PTS\"\n",
    "reduced_player19_df = player_2019_df.loc[:, [\"Player\", \"Tm\", \"Pos\", \"G\", \"FG\", \"FG%\", \"FT\", \"FT%\", \"PTS\"]]\n",
    "reduced_player19_df.head(10)"
   ]
  },
  {
   "cell_type": "code",
   "execution_count": 25,
   "metadata": {},
   "outputs": [],
   "source": [
    "#Header updates, Player Data:\n",
    "revised_player18_df = reduced_player18_df.rename(columns={'Tm': 'team_name', 'Pos': 'Position',\t'G': 'Games', 'FG%': 'FG_pct', 'FT%': 'FT_pct', 'PTS': 'Total_Pts'})\n",
    "\n",
    "revised_player19_df = reduced_player19_df.rename(columns={'Tm': 'team_name', 'Pos': 'Position',\t'G': 'Games', 'FG%': 'FG_pct', 'FT%': 'FT_pct', 'PTS': 'Total_Pts', })"
   ]
  },
  {
   "cell_type": "code",
   "execution_count": 26,
   "metadata": {},
   "outputs": [],
   "source": [
    "# Add 'Season' column\n",
    "revised_player18_df.insert(0, \"Season\", 2018, True)\n",
    "\n",
    "revised_player19_df.insert(0, \"Season\", 2019, True)"
   ]
  },
  {
   "cell_type": "markdown",
   "metadata": {},
   "source": [
    "### Transform Game DataFrames\n",
    "* Remove the Box Score column from the Game Data\n",
    "* Update the Game Data DFs so team names match the 3 letter accrynyms on the Player Data DFs\n",
    "* Update column headers to coorespond with schema \n",
    "* Add 'Season' column "
   ]
  },
  {
   "cell_type": "code",
   "execution_count": 27,
   "metadata": {},
   "outputs": [
    {
     "output_type": "execute_result",
     "data": {
      "text/plain": "                Date     Visitor/Neutral  PTS        Home/Neutral  PTS.1\n0  Fri, May 18, 2018        Dallas Wings   78     Phoenix Mercury     86\n1  Sat, May 19, 2018         Chicago Sky   82       Indiana Fever     64\n2  Sun, May 20, 2018    New York Liberty   76         Chicago Sky     80\n3  Sun, May 20, 2018      Las Vegas Aces   65     Connecticut Sun    101\n4  Sun, May 20, 2018       Atlanta Dream   78        Dallas Wings    101\n5  Sun, May 20, 2018  Los Angeles Sparks   77      Minnesota Lynx     76\n6  Sun, May 20, 2018     Phoenix Mercury   87       Seattle Storm     82\n7  Sun, May 20, 2018       Indiana Fever   75  Washington Mystics     82\n8  Tue, May 22, 2018  Los Angeles Sparks   87       Indiana Fever     70\n9  Tue, May 22, 2018      Las Vegas Aces   70  Washington Mystics     75",
      "text/html": "<div>\n<style scoped>\n    .dataframe tbody tr th:only-of-type {\n        vertical-align: middle;\n    }\n\n    .dataframe tbody tr th {\n        vertical-align: top;\n    }\n\n    .dataframe thead th {\n        text-align: right;\n    }\n</style>\n<table border=\"1\" class=\"dataframe\">\n  <thead>\n    <tr style=\"text-align: right;\">\n      <th></th>\n      <th>Date</th>\n      <th>Visitor/Neutral</th>\n      <th>PTS</th>\n      <th>Home/Neutral</th>\n      <th>PTS.1</th>\n    </tr>\n  </thead>\n  <tbody>\n    <tr>\n      <th>0</th>\n      <td>Fri, May 18, 2018</td>\n      <td>Dallas Wings</td>\n      <td>78</td>\n      <td>Phoenix Mercury</td>\n      <td>86</td>\n    </tr>\n    <tr>\n      <th>1</th>\n      <td>Sat, May 19, 2018</td>\n      <td>Chicago Sky</td>\n      <td>82</td>\n      <td>Indiana Fever</td>\n      <td>64</td>\n    </tr>\n    <tr>\n      <th>2</th>\n      <td>Sun, May 20, 2018</td>\n      <td>New York Liberty</td>\n      <td>76</td>\n      <td>Chicago Sky</td>\n      <td>80</td>\n    </tr>\n    <tr>\n      <th>3</th>\n      <td>Sun, May 20, 2018</td>\n      <td>Las Vegas Aces</td>\n      <td>65</td>\n      <td>Connecticut Sun</td>\n      <td>101</td>\n    </tr>\n    <tr>\n      <th>4</th>\n      <td>Sun, May 20, 2018</td>\n      <td>Atlanta Dream</td>\n      <td>78</td>\n      <td>Dallas Wings</td>\n      <td>101</td>\n    </tr>\n    <tr>\n      <th>5</th>\n      <td>Sun, May 20, 2018</td>\n      <td>Los Angeles Sparks</td>\n      <td>77</td>\n      <td>Minnesota Lynx</td>\n      <td>76</td>\n    </tr>\n    <tr>\n      <th>6</th>\n      <td>Sun, May 20, 2018</td>\n      <td>Phoenix Mercury</td>\n      <td>87</td>\n      <td>Seattle Storm</td>\n      <td>82</td>\n    </tr>\n    <tr>\n      <th>7</th>\n      <td>Sun, May 20, 2018</td>\n      <td>Indiana Fever</td>\n      <td>75</td>\n      <td>Washington Mystics</td>\n      <td>82</td>\n    </tr>\n    <tr>\n      <th>8</th>\n      <td>Tue, May 22, 2018</td>\n      <td>Los Angeles Sparks</td>\n      <td>87</td>\n      <td>Indiana Fever</td>\n      <td>70</td>\n    </tr>\n    <tr>\n      <th>9</th>\n      <td>Tue, May 22, 2018</td>\n      <td>Las Vegas Aces</td>\n      <td>70</td>\n      <td>Washington Mystics</td>\n      <td>75</td>\n    </tr>\n  </tbody>\n</table>\n</div>"
     },
     "metadata": {},
     "execution_count": 27
    }
   ],
   "source": [
    "# 2018 Game Data reduction\n",
    "# Extract \"Date\", \"Visitor/Neutral\", \"PTS\", \"Visitor/Neutral\", \"PTS.1\"\n",
    "reduced_game18_df = wnba_2018_df.loc[:, [\"Date\", \"Visitor/Neutral\", \"PTS\", \"Home/Neutral\", \"PTS.1\"]]\n",
    "reduced_game18_df.head(10)"
   ]
  },
  {
   "cell_type": "code",
   "execution_count": 28,
   "metadata": {},
   "outputs": [
    {
     "output_type": "execute_result",
     "data": {
      "text/plain": "                Date     Visitor/Neutral  PTS        Home/Neutral  PTS.1\n0  Fri, May 24, 2019        Dallas Wings   72       Atlanta Dream     76\n1  Fri, May 24, 2019       Indiana Fever   81    New York Liberty     80\n2  Sat, May 25, 2019  Washington Mystics   69     Connecticut Sun     84\n3  Sat, May 25, 2019         Chicago Sky   71      Minnesota Lynx     89\n4  Sat, May 25, 2019     Phoenix Mercury   68       Seattle Storm     77\n5  Sun, May 26, 2019  Los Angeles Sparks   70      Las Vegas Aces     83\n6  Tue, May 28, 2019       Indiana Fever   77     Connecticut Sun     88\n7  Wed, May 29, 2019       Seattle Storm   61      Minnesota Lynx     72\n8  Fri, May 31, 2019       Seattle Storm   82       Atlanta Dream     66\n9  Fri, May 31, 2019     Connecticut Sun   70  Los Angeles Sparks     77",
      "text/html": "<div>\n<style scoped>\n    .dataframe tbody tr th:only-of-type {\n        vertical-align: middle;\n    }\n\n    .dataframe tbody tr th {\n        vertical-align: top;\n    }\n\n    .dataframe thead th {\n        text-align: right;\n    }\n</style>\n<table border=\"1\" class=\"dataframe\">\n  <thead>\n    <tr style=\"text-align: right;\">\n      <th></th>\n      <th>Date</th>\n      <th>Visitor/Neutral</th>\n      <th>PTS</th>\n      <th>Home/Neutral</th>\n      <th>PTS.1</th>\n    </tr>\n  </thead>\n  <tbody>\n    <tr>\n      <th>0</th>\n      <td>Fri, May 24, 2019</td>\n      <td>Dallas Wings</td>\n      <td>72</td>\n      <td>Atlanta Dream</td>\n      <td>76</td>\n    </tr>\n    <tr>\n      <th>1</th>\n      <td>Fri, May 24, 2019</td>\n      <td>Indiana Fever</td>\n      <td>81</td>\n      <td>New York Liberty</td>\n      <td>80</td>\n    </tr>\n    <tr>\n      <th>2</th>\n      <td>Sat, May 25, 2019</td>\n      <td>Washington Mystics</td>\n      <td>69</td>\n      <td>Connecticut Sun</td>\n      <td>84</td>\n    </tr>\n    <tr>\n      <th>3</th>\n      <td>Sat, May 25, 2019</td>\n      <td>Chicago Sky</td>\n      <td>71</td>\n      <td>Minnesota Lynx</td>\n      <td>89</td>\n    </tr>\n    <tr>\n      <th>4</th>\n      <td>Sat, May 25, 2019</td>\n      <td>Phoenix Mercury</td>\n      <td>68</td>\n      <td>Seattle Storm</td>\n      <td>77</td>\n    </tr>\n    <tr>\n      <th>5</th>\n      <td>Sun, May 26, 2019</td>\n      <td>Los Angeles Sparks</td>\n      <td>70</td>\n      <td>Las Vegas Aces</td>\n      <td>83</td>\n    </tr>\n    <tr>\n      <th>6</th>\n      <td>Tue, May 28, 2019</td>\n      <td>Indiana Fever</td>\n      <td>77</td>\n      <td>Connecticut Sun</td>\n      <td>88</td>\n    </tr>\n    <tr>\n      <th>7</th>\n      <td>Wed, May 29, 2019</td>\n      <td>Seattle Storm</td>\n      <td>61</td>\n      <td>Minnesota Lynx</td>\n      <td>72</td>\n    </tr>\n    <tr>\n      <th>8</th>\n      <td>Fri, May 31, 2019</td>\n      <td>Seattle Storm</td>\n      <td>82</td>\n      <td>Atlanta Dream</td>\n      <td>66</td>\n    </tr>\n    <tr>\n      <th>9</th>\n      <td>Fri, May 31, 2019</td>\n      <td>Connecticut Sun</td>\n      <td>70</td>\n      <td>Los Angeles Sparks</td>\n      <td>77</td>\n    </tr>\n  </tbody>\n</table>\n</div>"
     },
     "metadata": {},
     "execution_count": 28
    }
   ],
   "source": [
    "# 2019 Game Data reduction\n",
    "# Extract \"Date\", \"Visitor/Neutral\", \"PTS\", \"Visitor/Neutral\", \"PTS.1\"\n",
    "reduced_game19_df = wnba_2019_df.loc[:, [\"Date\", \"Visitor/Neutral\", \"PTS\", \"Home/Neutral\", \"PTS.1\"]]\n",
    "reduced_game19_df.head(10)"
   ]
  },
  {
   "cell_type": "code",
   "execution_count": 29,
   "metadata": {},
   "outputs": [],
   "source": [
    "#Replace each full team name with 3-letter accrynym (i.e. DallasWings --> DAL)\n",
    "\n",
    "replacements = {\n",
    "    \"Dallas Wings\": \"DAL\",\n",
    "    \"Chicago Sky\": \"CHI\",\n",
    "    \"New York Liberty\": \"NYL\",\n",
    "    \"Las Vegas Aces\": \"LVA\",\n",
    "    \"Atlanta Dream\": \"ATL\",\n",
    "    \"Los Angeles Sparks\": \"LAS\",\n",
    "    \"Phoenix Mercury\": \"PHO\",\n",
    "    \"Seattle Storm\": \"SEA\",\n",
    "    \"Indiana Fever\": \"IND\",\n",
    "    \"Washington Mystics\": \"WAS\",\n",
    "    \"Minnesota Lynx\": \"MIN\",\n",
    "    \"Connecticut Sun\": \"CON\",\n",
    "}\n",
    "reduced_game18_df[\"Visitor/Neutral\"].replace(replacements, inplace=True)\n",
    "\n",
    "reduced_game18_df[\"Home/Neutral\"].replace(replacements, inplace=True)\n",
    "\n",
    "reduced_game19_df[\"Visitor/Neutral\"].replace(replacements, inplace=True)\n",
    "\n",
    "reduced_game19_df[\"Home/Neutral\"].replace(replacements, inplace=True)"
   ]
  },
  {
   "cell_type": "code",
   "execution_count": 30,
   "metadata": {},
   "outputs": [],
   "source": [
    "# Headers updates, Game Data:\n",
    "revised_game18_df = reduced_game18_df.rename(columns={'Visitor/Neutral': 'away_team', 'PTS': 'away_team_pts', 'Home/Neutral': 'home_team', 'PTS.1': 'home_team_pts'})\n",
    "\n",
    "revised_game19_df = reduced_game19_df.rename(columns={'Visitor/Neutral': 'away_team', 'PTS': 'away_team_pts', 'Home/Neutral': 'home_team', 'PTS.1': 'home_team_pts'})"
   ]
  },
  {
   "cell_type": "code",
   "execution_count": 31,
   "metadata": {},
   "outputs": [],
   "source": [
    "# Add 'Season' Column to Game Data\n",
    "revised_game18_df.insert(0, \"Season\", 2018, True)\n",
    "\n",
    "revised_game19_df.insert(0, \"Season\", 2019, True)"
   ]
  },
  {
   "cell_type": "markdown",
   "metadata": {},
   "source": [
    "### Connect to local database"
   ]
  },
  {
   "cell_type": "code",
   "execution_count": 32,
   "metadata": {},
   "outputs": [],
   "source": [
    "connection_string = \"postgres:postgres@localhost:5432/WNBA\"\n",
    "engine = create_engine(f'postgresql://{connection_string}')"
   ]
  },
  {
   "cell_type": "code",
   "execution_count": 33,
   "metadata": {},
   "outputs": [
    {
     "output_type": "execute_result",
     "data": {
      "text/plain": "[]"
     },
     "metadata": {},
     "execution_count": 33
    }
   ],
   "source": [
    "# Confirm tables\n",
    "engine.table_names()"
   ]
  },
  {
   "cell_type": "markdown",
   "metadata": {},
   "source": [
    "### Load DataFrames into database"
   ]
  },
  {
   "cell_type": "code",
   "execution_count": 34,
   "metadata": {},
   "outputs": [],
   "source": [
    "revised_game18_df.to_sql(name='Game_Data_18', con=engine, if_exists='append', index=True)\n",
    "\n",
    "revised_game19_df.to_sql(name='Game_Data_19', con=engine, if_exists='append', index=True)\n",
    "\n",
    "revised_player18_df.to_sql(name='Player_Data_18', con=engine, if_exists='append', index=True)\n",
    "\n",
    "revised_player19_df.to_sql(name='Player_Data_19', con=engine, if_exists='append', index=True)\n"
   ]
  }
 ]
}